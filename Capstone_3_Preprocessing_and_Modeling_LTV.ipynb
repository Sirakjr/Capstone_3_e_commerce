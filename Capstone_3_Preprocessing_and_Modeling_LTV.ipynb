{
 "cells": [
  {
   "cell_type": "markdown",
   "id": "05bdecbf",
   "metadata": {},
   "source": [
    "# Pre-processing"
   ]
  },
  {
   "cell_type": "markdown",
   "id": "b912a0ba",
   "metadata": {},
   "source": [
    "Our goal in this project is to predict the customer lifetime value (LTV). Since we don't have customer information in our Amazon sales data, we'll use the International sales data."
   ]
  },
  {
   "cell_type": "code",
   "execution_count": 31,
   "id": "a3c8531b",
   "metadata": {},
   "outputs": [],
   "source": [
    "#import the necessary libraries\n",
    "import numpy as np\n",
    "import pandas as pd\n",
    "import matplotlib.pyplot as plt\n",
    "import seaborn as sns\n",
    "import datetime as dt\n",
    "from sklearn.cluster import KMeans\n",
    "from sklearn.linear_model import LinearRegression\n",
    "from xgboost import XGBRegressor\n",
    "from sklearn.model_selection import GridSearchCV\n",
    "from sklearn.model_selection import train_test_split\n",
    "from sklearn.metrics import mean_squared_error\n",
    "%matplotlib inline"
   ]
  },
  {
   "cell_type": "code",
   "execution_count": 2,
   "id": "1b7ac043",
   "metadata": {},
   "outputs": [
    {
     "data": {
      "text/html": [
       "<div>\n",
       "<style scoped>\n",
       "    .dataframe tbody tr th:only-of-type {\n",
       "        vertical-align: middle;\n",
       "    }\n",
       "\n",
       "    .dataframe tbody tr th {\n",
       "        vertical-align: top;\n",
       "    }\n",
       "\n",
       "    .dataframe thead th {\n",
       "        text-align: right;\n",
       "    }\n",
       "</style>\n",
       "<table border=\"1\" class=\"dataframe\">\n",
       "  <thead>\n",
       "    <tr style=\"text-align: right;\">\n",
       "      <th></th>\n",
       "      <th>Order_ID</th>\n",
       "      <th>Date</th>\n",
       "      <th>Month</th>\n",
       "      <th>Customer_name</th>\n",
       "      <th>Style</th>\n",
       "      <th>SKU</th>\n",
       "      <th>Size</th>\n",
       "      <th>Quantity</th>\n",
       "      <th>Price</th>\n",
       "      <th>Total</th>\n",
       "      <th>Stock</th>\n",
       "      <th>Shipping(per order)</th>\n",
       "    </tr>\n",
       "  </thead>\n",
       "  <tbody>\n",
       "    <tr>\n",
       "      <th>0</th>\n",
       "      <td>-6056861894448732620</td>\n",
       "      <td>2021-06-05</td>\n",
       "      <td>Jun-21</td>\n",
       "      <td>Revathy Loganathan</td>\n",
       "      <td>MEN5004</td>\n",
       "      <td>MEN5004-KR-L</td>\n",
       "      <td>L</td>\n",
       "      <td>1</td>\n",
       "      <td>616.56</td>\n",
       "      <td>617.0</td>\n",
       "      <td>8.0</td>\n",
       "      <td>2250.0</td>\n",
       "    </tr>\n",
       "    <tr>\n",
       "      <th>1</th>\n",
       "      <td>-6056861894448732620</td>\n",
       "      <td>2021-06-05</td>\n",
       "      <td>Jun-21</td>\n",
       "      <td>Revathy Loganathan</td>\n",
       "      <td>MEN5004</td>\n",
       "      <td>MEN5004-KR-XL</td>\n",
       "      <td>XL</td>\n",
       "      <td>1</td>\n",
       "      <td>616.56</td>\n",
       "      <td>617.0</td>\n",
       "      <td>4.0</td>\n",
       "      <td>2250.0</td>\n",
       "    </tr>\n",
       "    <tr>\n",
       "      <th>2</th>\n",
       "      <td>-6056861894448732620</td>\n",
       "      <td>2021-06-05</td>\n",
       "      <td>Jun-21</td>\n",
       "      <td>Revathy Loganathan</td>\n",
       "      <td>MEN5004</td>\n",
       "      <td>MEN5004-KR-XXL</td>\n",
       "      <td>XXL</td>\n",
       "      <td>1</td>\n",
       "      <td>616.56</td>\n",
       "      <td>617.0</td>\n",
       "      <td>6.0</td>\n",
       "      <td>2250.0</td>\n",
       "    </tr>\n",
       "    <tr>\n",
       "      <th>3</th>\n",
       "      <td>-6056861894448732620</td>\n",
       "      <td>2021-06-05</td>\n",
       "      <td>Jun-21</td>\n",
       "      <td>Revathy Loganathan</td>\n",
       "      <td>MEN5009</td>\n",
       "      <td>MEN5009-KR-L</td>\n",
       "      <td>L</td>\n",
       "      <td>1</td>\n",
       "      <td>616.56</td>\n",
       "      <td>617.0</td>\n",
       "      <td>6.0</td>\n",
       "      <td>2250.0</td>\n",
       "    </tr>\n",
       "    <tr>\n",
       "      <th>4</th>\n",
       "      <td>-6056861894448732620</td>\n",
       "      <td>2021-06-05</td>\n",
       "      <td>Jun-21</td>\n",
       "      <td>Revathy Loganathan</td>\n",
       "      <td>MEN5011</td>\n",
       "      <td>MEN5011-KR-L</td>\n",
       "      <td>L</td>\n",
       "      <td>1</td>\n",
       "      <td>616.56</td>\n",
       "      <td>617.0</td>\n",
       "      <td>11.0</td>\n",
       "      <td>2250.0</td>\n",
       "    </tr>\n",
       "  </tbody>\n",
       "</table>\n",
       "</div>"
      ],
      "text/plain": [
       "              Order_ID        Date   Month       Customer_name    Style  \\\n",
       "0 -6056861894448732620  2021-06-05  Jun-21  Revathy Loganathan  MEN5004   \n",
       "1 -6056861894448732620  2021-06-05  Jun-21  Revathy Loganathan  MEN5004   \n",
       "2 -6056861894448732620  2021-06-05  Jun-21  Revathy Loganathan  MEN5004   \n",
       "3 -6056861894448732620  2021-06-05  Jun-21  Revathy Loganathan  MEN5009   \n",
       "4 -6056861894448732620  2021-06-05  Jun-21  Revathy Loganathan  MEN5011   \n",
       "\n",
       "              SKU Size  Quantity   Price  Total  Stock  Shipping(per order)  \n",
       "0    MEN5004-KR-L    L         1  616.56  617.0    8.0               2250.0  \n",
       "1   MEN5004-KR-XL   XL         1  616.56  617.0    4.0               2250.0  \n",
       "2  MEN5004-KR-XXL  XXL         1  616.56  617.0    6.0               2250.0  \n",
       "3    MEN5009-KR-L    L         1  616.56  617.0    6.0               2250.0  \n",
       "4    MEN5011-KR-L    L         1  616.56  617.0   11.0               2250.0  "
      ]
     },
     "execution_count": 2,
     "metadata": {},
     "output_type": "execute_result"
    }
   ],
   "source": [
    "int_df=pd.read_csv('international_sales_2.csv')\n",
    "int_df.head()"
   ]
  },
  {
   "cell_type": "markdown",
   "id": "34dda5af",
   "metadata": {},
   "source": [
    "But before predicting the LTW we need to segment our customers to adopt our actions depending on their different needs and behavior. In order to do that we'll use the RFM method which stands for Recency - Frequency - Monetary Value. </br>\n",
    "The first step would be to to calculate the metrics mentioned above for each customer. We'll start with recency."
   ]
  },
  {
   "cell_type": "markdown",
   "id": "f83eca06",
   "metadata": {},
   "source": [
    "### Recency"
   ]
  },
  {
   "cell_type": "code",
   "execution_count": 3,
   "id": "ec589981",
   "metadata": {},
   "outputs": [
    {
     "data": {
      "text/plain": [
       "count    153.000000\n",
       "mean     130.346405\n",
       "std      103.101976\n",
       "min        0.000000\n",
       "25%       43.000000\n",
       "50%       95.000000\n",
       "75%      218.000000\n",
       "max      337.000000\n",
       "Name: Recency, dtype: float64"
      ]
     },
     "execution_count": 3,
     "metadata": {},
     "output_type": "execute_result"
    }
   ],
   "source": [
    "int_df['Date']=pd.to_datetime(int_df['Date'])\n",
    "\n",
    "purchase_df=int_df.groupby('Customer_name')['Date'].max().reset_index()\n",
    "purchase_df.columns=['Customer_name', 'MaxPurchaseDate']\n",
    "max_date=purchase_df['MaxPurchaseDate'].max()\n",
    "purchase_df['Recency']=(max_date - purchase_df['MaxPurchaseDate']).dt.days\n",
    "purchase_df['Recency'].describe()"
   ]
  },
  {
   "cell_type": "markdown",
   "id": "31361c06",
   "metadata": {},
   "source": [
    "So the average recency period is 130 days but the median value is 95.Let's plot the values to have a better look at the recency distribution."
   ]
  },
  {
   "cell_type": "code",
   "execution_count": 4,
   "id": "f696acb4",
   "metadata": {},
   "outputs": [
    {
     "data": {
      "image/png": "[encoded data removed]",
      "text/plain": [
       "<Figure size 864x576 with 1 Axes>"
      ]
     },
     "metadata": {
      "needs_background": "light"
     },
     "output_type": "display_data"
    }
   ],
   "source": [
    "purchase_df['Recency'].hist(figsize=(12, 8))\n",
    "plt.title('Recency values distribution')\n",
    "plt.xlabel('Days')\n",
    "plt.ylabel('Number of customers')\n",
    "plt.show()"
   ]
  },
  {
   "cell_type": "markdown",
   "id": "1115499c",
   "metadata": {},
   "source": [
    "Now we need to assign a recency score to our values. In order to do it we'll use KMeans clustering. But first we need to choose the number of clusters we need. To find it out, we'll use the elbow method."
   ]
  },
  {
   "cell_type": "code",
   "execution_count": 5,
   "id": "825f0599",
   "metadata": {},
   "outputs": [
    {
     "name": "stderr",
     "output_type": "stream",
     "text": [
      "C:\\Users\\sirak\\anaconda3\\lib\\site-packages\\sklearn\\cluster\\_kmeans.py:1036: UserWarning: KMeans is known to have a memory leak on Windows with MKL, when there are less chunks than available threads. You can avoid it by setting the environment variable OMP_NUM_THREADS=1.\n",
      "  warnings.warn(\n"
     ]
    },
    {
     "data": {
      "image/png": "[encoded data removed]",
      "text/plain": [
       "<Figure size 432x288 with 1 Axes>"
      ]
     },
     "metadata": {
      "needs_background": "light"
     },
     "output_type": "display_data"
    }
   ],
   "source": [
    "sse={}\n",
    "Recency = purchase_df[['Recency']].copy()\n",
    "for k in range(1, 10):\n",
    "    kmeans = KMeans(n_clusters=k, max_iter=1000).fit(Recency)\n",
    "    sse[k] = kmeans.inertia_ \n",
    "plt.figure()\n",
    "plt.plot(list(sse.keys()), list(sse.values()))\n",
    "plt.xlabel(\"Number of cluster\")\n",
    "plt.show()"
   ]
  },
  {
   "cell_type": "markdown",
   "id": "8b9ebb4e",
   "metadata": {},
   "source": [
    "It looks like 3 is the optimal one.Now let's build our clusters."
   ]
  },
  {
   "cell_type": "code",
   "execution_count": 6,
   "id": "b9166f12",
   "metadata": {},
   "outputs": [],
   "source": [
    "kmeans=KMeans(n_clusters=3)\n",
    "kmeans.fit(purchase_df[['Recency']])\n",
    "purchase_df['RecencyCluster']=kmeans.predict(purchase_df[['Recency']])\n",
    "\n",
    "#We'll also add a function for ordering the clusters\n",
    "def order_cluster(cluster_field_name, target_field_name, df, ascending):\n",
    "    df_new = df.groupby(cluster_field_name)[target_field_name].mean().reset_index()\n",
    "    df_new = df_new.sort_values(by=target_field_name,ascending=ascending).reset_index(drop=True)\n",
    "    df_new['index'] = df_new.index\n",
    "    df_final = pd.merge(df,df_new[[cluster_field_name,'index']], on=cluster_field_name)\n",
    "    df_final = df_final.drop([cluster_field_name],axis=1)\n",
    "    df_final = df_final.rename(columns={\"index\":cluster_field_name})\n",
    "    return df_final\n",
    "\n",
    "purchase_df=order_cluster('RecencyCluster', 'Recency', purchase_df, False)"
   ]
  },
  {
   "cell_type": "code",
   "execution_count": 7,
   "id": "03560779",
   "metadata": {},
   "outputs": [
    {
     "data": {
      "text/html": [
       "<div>\n",
       "<style scoped>\n",
       "    .dataframe tbody tr th:only-of-type {\n",
       "        vertical-align: middle;\n",
       "    }\n",
       "\n",
       "    .dataframe tbody tr th {\n",
       "        vertical-align: top;\n",
       "    }\n",
       "\n",
       "    .dataframe thead tr th {\n",
       "        text-align: left;\n",
       "    }\n",
       "\n",
       "    .dataframe thead tr:last-of-type th {\n",
       "        text-align: right;\n",
       "    }\n",
       "</style>\n",
       "<table border=\"1\" class=\"dataframe\">\n",
       "  <thead>\n",
       "    <tr>\n",
       "      <th></th>\n",
       "      <th colspan=\"8\" halign=\"left\">Recency</th>\n",
       "    </tr>\n",
       "    <tr>\n",
       "      <th></th>\n",
       "      <th>count</th>\n",
       "      <th>mean</th>\n",
       "      <th>std</th>\n",
       "      <th>min</th>\n",
       "      <th>25%</th>\n",
       "      <th>50%</th>\n",
       "      <th>75%</th>\n",
       "      <th>max</th>\n",
       "    </tr>\n",
       "    <tr>\n",
       "      <th>RecencyCluster</th>\n",
       "      <th></th>\n",
       "      <th></th>\n",
       "      <th></th>\n",
       "      <th></th>\n",
       "      <th></th>\n",
       "      <th></th>\n",
       "      <th></th>\n",
       "      <th></th>\n",
       "    </tr>\n",
       "  </thead>\n",
       "  <tbody>\n",
       "    <tr>\n",
       "      <th>0</th>\n",
       "      <td>33.0</td>\n",
       "      <td>285.636364</td>\n",
       "      <td>31.907893</td>\n",
       "      <td>237.0</td>\n",
       "      <td>259.0</td>\n",
       "      <td>284.0</td>\n",
       "      <td>316.0</td>\n",
       "      <td>337.0</td>\n",
       "    </tr>\n",
       "    <tr>\n",
       "      <th>1</th>\n",
       "      <td>35.0</td>\n",
       "      <td>181.800000</td>\n",
       "      <td>36.330833</td>\n",
       "      <td>118.0</td>\n",
       "      <td>148.0</td>\n",
       "      <td>194.0</td>\n",
       "      <td>210.5</td>\n",
       "      <td>232.0</td>\n",
       "    </tr>\n",
       "    <tr>\n",
       "      <th>2</th>\n",
       "      <td>85.0</td>\n",
       "      <td>48.870588</td>\n",
       "      <td>31.921327</td>\n",
       "      <td>0.0</td>\n",
       "      <td>20.0</td>\n",
       "      <td>44.0</td>\n",
       "      <td>75.0</td>\n",
       "      <td>114.0</td>\n",
       "    </tr>\n",
       "  </tbody>\n",
       "</table>\n",
       "</div>"
      ],
      "text/plain": [
       "               Recency                                                     \\\n",
       "                 count        mean        std    min    25%    50%    75%   \n",
       "RecencyCluster                                                              \n",
       "0                 33.0  285.636364  31.907893  237.0  259.0  284.0  316.0   \n",
       "1                 35.0  181.800000  36.330833  118.0  148.0  194.0  210.5   \n",
       "2                 85.0   48.870588  31.921327    0.0   20.0   44.0   75.0   \n",
       "\n",
       "                       \n",
       "                  max  \n",
       "RecencyCluster         \n",
       "0               337.0  \n",
       "1               232.0  \n",
       "2               114.0  "
      ]
     },
     "execution_count": 7,
     "metadata": {},
     "output_type": "execute_result"
    }
   ],
   "source": [
    "purchase_df.groupby('RecencyCluster').describe()"
   ]
  },
  {
   "cell_type": "markdown",
   "id": "ead1b955",
   "metadata": {},
   "source": [
    "So we can clearly see the difference between the 3 clusters. The cluster 2 has the customers with the most recent purchase dates and it is the biggest cluster. The cluster 0 and 1 have customers with bigger recency values and have almost the same number of customers."
   ]
  },
  {
   "cell_type": "markdown",
   "id": "93484e38",
   "metadata": {},
   "source": [
    "## Frequency"
   ]
  },
  {
   "cell_type": "markdown",
   "id": "ebc65bca",
   "metadata": {},
   "source": [
    "To create frequency clusters, we need to find total number of orders for each customer."
   ]
  },
  {
   "cell_type": "code",
   "execution_count": 8,
   "id": "6c1c4fbe",
   "metadata": {},
   "outputs": [
    {
     "data": {
      "text/html": [
       "<div>\n",
       "<style scoped>\n",
       "    .dataframe tbody tr th:only-of-type {\n",
       "        vertical-align: middle;\n",
       "    }\n",
       "\n",
       "    .dataframe tbody tr th {\n",
       "        vertical-align: top;\n",
       "    }\n",
       "\n",
       "    .dataframe thead th {\n",
       "        text-align: right;\n",
       "    }\n",
       "</style>\n",
       "<table border=\"1\" class=\"dataframe\">\n",
       "  <thead>\n",
       "    <tr style=\"text-align: right;\">\n",
       "      <th></th>\n",
       "      <th>Customer_name</th>\n",
       "      <th>MaxPurchaseDate</th>\n",
       "      <th>Recency</th>\n",
       "      <th>RecencyCluster</th>\n",
       "      <th>Frequency</th>\n",
       "    </tr>\n",
       "  </thead>\n",
       "  <tbody>\n",
       "    <tr>\n",
       "      <th>0</th>\n",
       "      <td>Aanchol</td>\n",
       "      <td>2021-07-16</td>\n",
       "      <td>299</td>\n",
       "      <td>0</td>\n",
       "      <td>4</td>\n",
       "    </tr>\n",
       "    <tr>\n",
       "      <th>1</th>\n",
       "      <td>Akash Kaushal</td>\n",
       "      <td>2021-09-07</td>\n",
       "      <td>246</td>\n",
       "      <td>0</td>\n",
       "      <td>10</td>\n",
       "    </tr>\n",
       "    <tr>\n",
       "      <th>2</th>\n",
       "      <td>Arkh Fashion</td>\n",
       "      <td>2021-08-16</td>\n",
       "      <td>268</td>\n",
       "      <td>0</td>\n",
       "      <td>32</td>\n",
       "    </tr>\n",
       "    <tr>\n",
       "      <th>3</th>\n",
       "      <td>Aruna Devi</td>\n",
       "      <td>2021-07-24</td>\n",
       "      <td>291</td>\n",
       "      <td>0</td>\n",
       "      <td>42</td>\n",
       "    </tr>\n",
       "    <tr>\n",
       "      <th>4</th>\n",
       "      <td>Bincy Skaria</td>\n",
       "      <td>2021-08-25</td>\n",
       "      <td>259</td>\n",
       "      <td>0</td>\n",
       "      <td>148</td>\n",
       "    </tr>\n",
       "  </tbody>\n",
       "</table>\n",
       "</div>"
      ],
      "text/plain": [
       "   Customer_name MaxPurchaseDate  Recency  RecencyCluster  Frequency\n",
       "0        Aanchol      2021-07-16      299               0          4\n",
       "1  Akash Kaushal      2021-09-07      246               0         10\n",
       "2   Arkh Fashion      2021-08-16      268               0         32\n",
       "3     Aruna Devi      2021-07-24      291               0         42\n",
       "4   Bincy Skaria      2021-08-25      259               0        148"
      ]
     },
     "execution_count": 8,
     "metadata": {},
     "output_type": "execute_result"
    }
   ],
   "source": [
    "frequency_df=int_df.groupby('Customer_name')['Order_ID'].count().reset_index()\n",
    "frequency_df.columns = ['Customer_name','Frequency']\n",
    "\n",
    "purchase_df=pd.merge(purchase_df, frequency_df, on='Customer_name')\n",
    "purchase_df.head()"
   ]
  },
  {
   "cell_type": "code",
   "execution_count": 9,
   "id": "7c48ad08",
   "metadata": {},
   "outputs": [
    {
     "data": {
      "image/png": "[encoded data removed]",
      "text/plain": [
       "<Figure size 864x576 with 1 Axes>"
      ]
     },
     "metadata": {
      "needs_background": "light"
     },
     "output_type": "display_data"
    }
   ],
   "source": [
    "purchase_df['Frequency'].hist(figsize=(12, 8))\n",
    "plt.title('Frequency values distribution')\n",
    "plt.xlabel('Number of orders')\n",
    "plt.ylabel('Number of customers')\n",
    "plt.show()"
   ]
  },
  {
   "cell_type": "code",
   "execution_count": 10,
   "id": "05daa3e4",
   "metadata": {},
   "outputs": [
    {
     "data": {
      "text/plain": [
       "count     153.000000\n",
       "mean       83.496732\n",
       "std       156.631445\n",
       "min         3.000000\n",
       "25%        17.000000\n",
       "50%        32.000000\n",
       "75%        74.000000\n",
       "max      1268.000000\n",
       "Name: Frequency, dtype: float64"
      ]
     },
     "execution_count": 10,
     "metadata": {},
     "output_type": "execute_result"
    }
   ],
   "source": [
    "purchase_df['Frequency'].describe()"
   ]
  },
  {
   "cell_type": "markdown",
   "id": "c618617d",
   "metadata": {},
   "source": [
    "As we can see we have some outliers in our frequency values. The mean value is 83 orders whereas the median is 32 and the max value is 1268. We'll try to plot the results without the outliers."
   ]
  },
  {
   "cell_type": "code",
   "execution_count": 11,
   "id": "464c4910",
   "metadata": {},
   "outputs": [
    {
     "data": {
      "image/png": "[encoded data removed]",
      "text/plain": [
       "<Figure size 864x576 with 1 Axes>"
      ]
     },
     "metadata": {
      "needs_background": "light"
     },
     "output_type": "display_data"
    }
   ],
   "source": [
    "purchase_df.query('Frequency < 1000')['Frequency'].hist(figsize=(12, 8), bins=20)\n",
    "plt.title('Frequency values distribution')\n",
    "plt.xlabel('Number of orders')\n",
    "plt.ylabel('Number of customers')\n",
    "plt.show()"
   ]
  },
  {
   "cell_type": "markdown",
   "id": "ee151974",
   "metadata": {},
   "source": [
    "Now we'll try to find the frequency clusters applying the same logic."
   ]
  },
  {
   "cell_type": "code",
   "execution_count": 12,
   "id": "a8c31528",
   "metadata": {},
   "outputs": [],
   "source": [
    "kmeans=KMeans(n_clusters=3)\n",
    "kmeans.fit(purchase_df[['Frequency']])\n",
    "purchase_df['FrequencyCluster']=kmeans.predict(purchase_df[['Frequency']])\n",
    "\n",
    "purchase_df=order_cluster('FrequencyCluster', 'Frequency', purchase_df, True)"
   ]
  },
  {
   "cell_type": "code",
   "execution_count": 13,
   "id": "033e7919",
   "metadata": {},
   "outputs": [
    {
     "data": {
      "text/html": [
       "<div>\n",
       "<style scoped>\n",
       "    .dataframe tbody tr th:only-of-type {\n",
       "        vertical-align: middle;\n",
       "    }\n",
       "\n",
       "    .dataframe tbody tr th {\n",
       "        vertical-align: top;\n",
       "    }\n",
       "\n",
       "    .dataframe thead th {\n",
       "        text-align: right;\n",
       "    }\n",
       "</style>\n",
       "<table border=\"1\" class=\"dataframe\">\n",
       "  <thead>\n",
       "    <tr style=\"text-align: right;\">\n",
       "      <th></th>\n",
       "      <th>count</th>\n",
       "      <th>mean</th>\n",
       "      <th>std</th>\n",
       "      <th>min</th>\n",
       "      <th>25%</th>\n",
       "      <th>50%</th>\n",
       "      <th>75%</th>\n",
       "      <th>max</th>\n",
       "    </tr>\n",
       "    <tr>\n",
       "      <th>FrequencyCluster</th>\n",
       "      <th></th>\n",
       "      <th></th>\n",
       "      <th></th>\n",
       "      <th></th>\n",
       "      <th></th>\n",
       "      <th></th>\n",
       "      <th></th>\n",
       "      <th></th>\n",
       "    </tr>\n",
       "  </thead>\n",
       "  <tbody>\n",
       "    <tr>\n",
       "      <th>0</th>\n",
       "      <td>129.0</td>\n",
       "      <td>36.248062</td>\n",
       "      <td>29.638718</td>\n",
       "      <td>3.0</td>\n",
       "      <td>14.0</td>\n",
       "      <td>27.0</td>\n",
       "      <td>48.0</td>\n",
       "      <td>135.0</td>\n",
       "    </tr>\n",
       "    <tr>\n",
       "      <th>1</th>\n",
       "      <td>21.0</td>\n",
       "      <td>245.619048</td>\n",
       "      <td>93.589249</td>\n",
       "      <td>148.0</td>\n",
       "      <td>179.0</td>\n",
       "      <td>224.0</td>\n",
       "      <td>275.0</td>\n",
       "      <td>463.0</td>\n",
       "    </tr>\n",
       "    <tr>\n",
       "      <th>2</th>\n",
       "      <td>3.0</td>\n",
       "      <td>980.333333</td>\n",
       "      <td>307.057541</td>\n",
       "      <td>657.0</td>\n",
       "      <td>836.5</td>\n",
       "      <td>1016.0</td>\n",
       "      <td>1142.0</td>\n",
       "      <td>1268.0</td>\n",
       "    </tr>\n",
       "  </tbody>\n",
       "</table>\n",
       "</div>"
      ],
      "text/plain": [
       "                  count        mean         std    min    25%     50%     75%  \\\n",
       "FrequencyCluster                                                                \n",
       "0                 129.0   36.248062   29.638718    3.0   14.0    27.0    48.0   \n",
       "1                  21.0  245.619048   93.589249  148.0  179.0   224.0   275.0   \n",
       "2                   3.0  980.333333  307.057541  657.0  836.5  1016.0  1142.0   \n",
       "\n",
       "                     max  \n",
       "FrequencyCluster          \n",
       "0                  135.0  \n",
       "1                  463.0  \n",
       "2                 1268.0  "
      ]
     },
     "execution_count": 13,
     "metadata": {},
     "output_type": "execute_result"
    }
   ],
   "source": [
    "purchase_df.groupby('FrequencyCluster')['Frequency'].describe()"
   ]
  },
  {
   "cell_type": "markdown",
   "id": "736a538f",
   "metadata": {},
   "source": [
    "The frequency cluster sizes are more unbalanced compared to recency clusters. The 0 cluster has the most of the customers with the mean value of 27 orders. The cluster 1 has 21 customers with the mean value of 245 orders. And the cluster 2 has all the outliers: these are the best 3 customers in terms of Frequency. They've made 657 to 1268 purchases in one year."
   ]
  },
  {
   "cell_type": "markdown",
   "id": "96cda2c3",
   "metadata": {},
   "source": [
    "## Revenue"
   ]
  },
  {
   "cell_type": "markdown",
   "id": "201ade5b",
   "metadata": {},
   "source": [
    "For the Monetary value we'll calculate the Revenue because we don't have the cost information for every customer. We'll take the 'Total' column from the original dataset which represents the total amount of money spent on every item purchase. Since we need the revenue for every customer, we'll group the data by the 'Customer_name' column."
   ]
  },
  {
   "cell_type": "code",
   "execution_count": 14,
   "id": "b26b7f86",
   "metadata": {},
   "outputs": [
    {
     "data": {
      "text/html": [
       "<div>\n",
       "<style scoped>\n",
       "    .dataframe tbody tr th:only-of-type {\n",
       "        vertical-align: middle;\n",
       "    }\n",
       "\n",
       "    .dataframe tbody tr th {\n",
       "        vertical-align: top;\n",
       "    }\n",
       "\n",
       "    .dataframe thead th {\n",
       "        text-align: right;\n",
       "    }\n",
       "</style>\n",
       "<table border=\"1\" class=\"dataframe\">\n",
       "  <thead>\n",
       "    <tr style=\"text-align: right;\">\n",
       "      <th></th>\n",
       "      <th>Customer_name</th>\n",
       "      <th>MaxPurchaseDate</th>\n",
       "      <th>Recency</th>\n",
       "      <th>RecencyCluster</th>\n",
       "      <th>Frequency</th>\n",
       "      <th>FrequencyCluster</th>\n",
       "      <th>Revenue</th>\n",
       "    </tr>\n",
       "  </thead>\n",
       "  <tbody>\n",
       "    <tr>\n",
       "      <th>0</th>\n",
       "      <td>Aanchol</td>\n",
       "      <td>2021-07-16</td>\n",
       "      <td>299</td>\n",
       "      <td>0</td>\n",
       "      <td>4</td>\n",
       "      <td>0</td>\n",
       "      <td>11452.0</td>\n",
       "    </tr>\n",
       "    <tr>\n",
       "      <th>1</th>\n",
       "      <td>Akash Kaushal</td>\n",
       "      <td>2021-09-07</td>\n",
       "      <td>246</td>\n",
       "      <td>0</td>\n",
       "      <td>10</td>\n",
       "      <td>0</td>\n",
       "      <td>5580.0</td>\n",
       "    </tr>\n",
       "    <tr>\n",
       "      <th>2</th>\n",
       "      <td>Arkh Fashion</td>\n",
       "      <td>2021-08-16</td>\n",
       "      <td>268</td>\n",
       "      <td>0</td>\n",
       "      <td>32</td>\n",
       "      <td>0</td>\n",
       "      <td>32690.0</td>\n",
       "    </tr>\n",
       "    <tr>\n",
       "      <th>3</th>\n",
       "      <td>Aruna Devi</td>\n",
       "      <td>2021-07-24</td>\n",
       "      <td>291</td>\n",
       "      <td>0</td>\n",
       "      <td>42</td>\n",
       "      <td>0</td>\n",
       "      <td>26952.0</td>\n",
       "    </tr>\n",
       "    <tr>\n",
       "      <th>4</th>\n",
       "      <td>Faria Essopp</td>\n",
       "      <td>2021-06-08</td>\n",
       "      <td>337</td>\n",
       "      <td>0</td>\n",
       "      <td>54</td>\n",
       "      <td>0</td>\n",
       "      <td>27989.0</td>\n",
       "    </tr>\n",
       "  </tbody>\n",
       "</table>\n",
       "</div>"
      ],
      "text/plain": [
       "   Customer_name MaxPurchaseDate  Recency  RecencyCluster  Frequency  \\\n",
       "0        Aanchol      2021-07-16      299               0          4   \n",
       "1  Akash Kaushal      2021-09-07      246               0         10   \n",
       "2   Arkh Fashion      2021-08-16      268               0         32   \n",
       "3     Aruna Devi      2021-07-24      291               0         42   \n",
       "4   Faria Essopp      2021-06-08      337               0         54   \n",
       "\n",
       "   FrequencyCluster  Revenue  \n",
       "0                 0  11452.0  \n",
       "1                 0   5580.0  \n",
       "2                 0  32690.0  \n",
       "3                 0  26952.0  \n",
       "4                 0  27989.0  "
      ]
     },
     "execution_count": 14,
     "metadata": {},
     "output_type": "execute_result"
    }
   ],
   "source": [
    "revenue_df = int_df.groupby('Customer_name')['Total'].sum().reset_index()\n",
    "revenue_df.columns = ['Customer_name','Revenue']\n",
    "\n",
    "purchase_df=pd.merge(purchase_df, revenue_df, on='Customer_name')\n",
    "purchase_df.head()"
   ]
  },
  {
   "cell_type": "code",
   "execution_count": 15,
   "id": "796075bf",
   "metadata": {},
   "outputs": [
    {
     "data": {
      "image/png": "[encoded data removed]",
      "text/plain": [
       "<Figure size 864x576 with 1 Axes>"
      ]
     },
     "metadata": {
      "needs_background": "light"
     },
     "output_type": "display_data"
    }
   ],
   "source": [
    "purchase_df['Revenue'].hist(figsize=(12, 8))\n",
    "plt.title('Revenue distribution')\n",
    "plt.xlabel('Revenue')\n",
    "plt.ylabel('Number of customers')\n",
    "plt.show()"
   ]
  },
  {
   "cell_type": "code",
   "execution_count": 16,
   "id": "623e4f41",
   "metadata": {},
   "outputs": [
    {
     "data": {
      "text/plain": [
       "count        153.00\n",
       "mean       72965.59\n",
       "std       149641.75\n",
       "min         3380.00\n",
       "25%        13041.00\n",
       "50%        26950.00\n",
       "75%        62684.00\n",
       "max      1188815.50\n",
       "Name: Revenue, dtype: float64"
      ]
     },
     "execution_count": 16,
     "metadata": {},
     "output_type": "execute_result"
    }
   ],
   "source": [
    "round(purchase_df['Revenue'].describe(), 2)"
   ]
  },
  {
   "cell_type": "markdown",
   "id": "e7b76997",
   "metadata": {},
   "source": [
    "Revenue has a similar to Frequency distribution of values: there are some outliers and the median value is few times smaller than the mean. Now let's find the clusters for the Revenue."
   ]
  },
  {
   "cell_type": "code",
   "execution_count": 17,
   "id": "4c968ace",
   "metadata": {},
   "outputs": [],
   "source": [
    "kmeans=KMeans(n_clusters=3)\n",
    "kmeans.fit(purchase_df[['Revenue']])\n",
    "purchase_df['RevenueCluster']=kmeans.predict(purchase_df[['Revenue']])\n",
    "\n",
    "purchase_df=order_cluster('RevenueCluster', 'Revenue', purchase_df, True)"
   ]
  },
  {
   "cell_type": "code",
   "execution_count": 18,
   "id": "99e2faf4",
   "metadata": {},
   "outputs": [
    {
     "data": {
      "text/html": [
       "<div>\n",
       "<style scoped>\n",
       "    .dataframe tbody tr th:only-of-type {\n",
       "        vertical-align: middle;\n",
       "    }\n",
       "\n",
       "    .dataframe tbody tr th {\n",
       "        vertical-align: top;\n",
       "    }\n",
       "\n",
       "    .dataframe thead th {\n",
       "        text-align: right;\n",
       "    }\n",
       "</style>\n",
       "<table border=\"1\" class=\"dataframe\">\n",
       "  <thead>\n",
       "    <tr style=\"text-align: right;\">\n",
       "      <th></th>\n",
       "      <th>count</th>\n",
       "      <th>mean</th>\n",
       "      <th>std</th>\n",
       "      <th>min</th>\n",
       "      <th>25%</th>\n",
       "      <th>50%</th>\n",
       "      <th>75%</th>\n",
       "      <th>max</th>\n",
       "    </tr>\n",
       "    <tr>\n",
       "      <th>RevenueCluster</th>\n",
       "      <th></th>\n",
       "      <th></th>\n",
       "      <th></th>\n",
       "      <th></th>\n",
       "      <th></th>\n",
       "      <th></th>\n",
       "      <th></th>\n",
       "      <th></th>\n",
       "    </tr>\n",
       "  </thead>\n",
       "  <tbody>\n",
       "    <tr>\n",
       "      <th>0</th>\n",
       "      <td>132.0</td>\n",
       "      <td>30783.626439</td>\n",
       "      <td>26162.146541</td>\n",
       "      <td>3380.0</td>\n",
       "      <td>12112.00</td>\n",
       "      <td>21411.0</td>\n",
       "      <td>40275.50</td>\n",
       "      <td>119863.0</td>\n",
       "    </tr>\n",
       "    <tr>\n",
       "      <th>1</th>\n",
       "      <td>18.0</td>\n",
       "      <td>235858.000000</td>\n",
       "      <td>107217.359285</td>\n",
       "      <td>136428.0</td>\n",
       "      <td>155702.25</td>\n",
       "      <td>208325.0</td>\n",
       "      <td>265638.25</td>\n",
       "      <td>544586.0</td>\n",
       "    </tr>\n",
       "    <tr>\n",
       "      <th>2</th>\n",
       "      <td>3.0</td>\n",
       "      <td>951617.500000</td>\n",
       "      <td>212162.946089</td>\n",
       "      <td>779953.0</td>\n",
       "      <td>833018.50</td>\n",
       "      <td>886084.0</td>\n",
       "      <td>1037449.75</td>\n",
       "      <td>1188815.5</td>\n",
       "    </tr>\n",
       "  </tbody>\n",
       "</table>\n",
       "</div>"
      ],
      "text/plain": [
       "                count           mean            std       min        25%  \\\n",
       "RevenueCluster                                                             \n",
       "0               132.0   30783.626439   26162.146541    3380.0   12112.00   \n",
       "1                18.0  235858.000000  107217.359285  136428.0  155702.25   \n",
       "2                 3.0  951617.500000  212162.946089  779953.0  833018.50   \n",
       "\n",
       "                     50%         75%        max  \n",
       "RevenueCluster                                   \n",
       "0                21411.0    40275.50   119863.0  \n",
       "1               208325.0   265638.25   544586.0  \n",
       "2               886084.0  1037449.75  1188815.5  "
      ]
     },
     "execution_count": 18,
     "metadata": {},
     "output_type": "execute_result"
    }
   ],
   "source": [
    "purchase_df.groupby('RevenueCluster')['Revenue'].describe()"
   ]
  },
  {
   "cell_type": "markdown",
   "id": "7e17969c",
   "metadata": {},
   "source": [
    "The sizes of the clusters and the difference between mean and median values are similar to the ones for frequency clusters. </br>\n",
    "Now that we have all the metrics and the clusters for them let's create a new column \"Overall_Score\" which will summarize all the cluster values and divide the customers into 3 different groups based on overall score."
   ]
  },
  {
   "cell_type": "code",
   "execution_count": 19,
   "id": "88eda78a",
   "metadata": {
    "scrolled": true
   },
   "outputs": [
    {
     "data": {
      "text/html": [
       "<div>\n",
       "<style scoped>\n",
       "    .dataframe tbody tr th:only-of-type {\n",
       "        vertical-align: middle;\n",
       "    }\n",
       "\n",
       "    .dataframe tbody tr th {\n",
       "        vertical-align: top;\n",
       "    }\n",
       "\n",
       "    .dataframe thead tr th {\n",
       "        text-align: left;\n",
       "    }\n",
       "\n",
       "    .dataframe thead tr:last-of-type th {\n",
       "        text-align: right;\n",
       "    }\n",
       "</style>\n",
       "<table border=\"1\" class=\"dataframe\">\n",
       "  <thead>\n",
       "    <tr>\n",
       "      <th></th>\n",
       "      <th colspan=\"8\" halign=\"left\">Recency</th>\n",
       "      <th colspan=\"5\" halign=\"left\">Frequency</th>\n",
       "      <th colspan=\"8\" halign=\"left\">Revenue</th>\n",
       "    </tr>\n",
       "    <tr>\n",
       "      <th></th>\n",
       "      <th>count</th>\n",
       "      <th>mean</th>\n",
       "      <th>std</th>\n",
       "      <th>min</th>\n",
       "      <th>25%</th>\n",
       "      <th>50%</th>\n",
       "      <th>75%</th>\n",
       "      <th>max</th>\n",
       "      <th>count</th>\n",
       "      <th>mean</th>\n",
       "      <th>...</th>\n",
       "      <th>75%</th>\n",
       "      <th>max</th>\n",
       "      <th>count</th>\n",
       "      <th>mean</th>\n",
       "      <th>std</th>\n",
       "      <th>min</th>\n",
       "      <th>25%</th>\n",
       "      <th>50%</th>\n",
       "      <th>75%</th>\n",
       "      <th>max</th>\n",
       "    </tr>\n",
       "    <tr>\n",
       "      <th>OverallScore</th>\n",
       "      <th></th>\n",
       "      <th></th>\n",
       "      <th></th>\n",
       "      <th></th>\n",
       "      <th></th>\n",
       "      <th></th>\n",
       "      <th></th>\n",
       "      <th></th>\n",
       "      <th></th>\n",
       "      <th></th>\n",
       "      <th></th>\n",
       "      <th></th>\n",
       "      <th></th>\n",
       "      <th></th>\n",
       "      <th></th>\n",
       "      <th></th>\n",
       "      <th></th>\n",
       "      <th></th>\n",
       "      <th></th>\n",
       "      <th></th>\n",
       "      <th></th>\n",
       "    </tr>\n",
       "  </thead>\n",
       "  <tbody>\n",
       "    <tr>\n",
       "      <th>0</th>\n",
       "      <td>28.0</td>\n",
       "      <td>286.46</td>\n",
       "      <td>32.19</td>\n",
       "      <td>237.0</td>\n",
       "      <td>263.50</td>\n",
       "      <td>285.5</td>\n",
       "      <td>316.25</td>\n",
       "      <td>337.0</td>\n",
       "      <td>28.0</td>\n",
       "      <td>30.43</td>\n",
       "      <td>...</td>\n",
       "      <td>42.25</td>\n",
       "      <td>98.0</td>\n",
       "      <td>28.0</td>\n",
       "      <td>24277.57</td>\n",
       "      <td>18804.24</td>\n",
       "      <td>5058.0</td>\n",
       "      <td>9598.50</td>\n",
       "      <td>18115.5</td>\n",
       "      <td>34090.25</td>\n",
       "      <td>65504.0</td>\n",
       "    </tr>\n",
       "    <tr>\n",
       "      <th>1</th>\n",
       "      <td>28.0</td>\n",
       "      <td>186.96</td>\n",
       "      <td>46.53</td>\n",
       "      <td>118.0</td>\n",
       "      <td>148.50</td>\n",
       "      <td>198.0</td>\n",
       "      <td>212.00</td>\n",
       "      <td>321.0</td>\n",
       "      <td>28.0</td>\n",
       "      <td>43.57</td>\n",
       "      <td>...</td>\n",
       "      <td>52.50</td>\n",
       "      <td>148.0</td>\n",
       "      <td>28.0</td>\n",
       "      <td>36218.64</td>\n",
       "      <td>33803.54</td>\n",
       "      <td>8430.0</td>\n",
       "      <td>13622.00</td>\n",
       "      <td>25164.5</td>\n",
       "      <td>41669.75</td>\n",
       "      <td>154858.0</td>\n",
       "    </tr>\n",
       "    <tr>\n",
       "      <th>2</th>\n",
       "      <td>76.0</td>\n",
       "      <td>56.16</td>\n",
       "      <td>50.93</td>\n",
       "      <td>0.0</td>\n",
       "      <td>19.50</td>\n",
       "      <td>44.0</td>\n",
       "      <td>76.50</td>\n",
       "      <td>280.0</td>\n",
       "      <td>76.0</td>\n",
       "      <td>41.74</td>\n",
       "      <td>...</td>\n",
       "      <td>54.00</td>\n",
       "      <td>191.0</td>\n",
       "      <td>76.0</td>\n",
       "      <td>37047.61</td>\n",
       "      <td>52348.37</td>\n",
       "      <td>3380.0</td>\n",
       "      <td>12592.75</td>\n",
       "      <td>18763.5</td>\n",
       "      <td>41224.50</td>\n",
       "      <td>403253.0</td>\n",
       "    </tr>\n",
       "    <tr>\n",
       "      <th>3</th>\n",
       "      <td>10.0</td>\n",
       "      <td>139.50</td>\n",
       "      <td>96.51</td>\n",
       "      <td>11.0</td>\n",
       "      <td>55.25</td>\n",
       "      <td>134.0</td>\n",
       "      <td>215.75</td>\n",
       "      <td>306.0</td>\n",
       "      <td>10.0</td>\n",
       "      <td>235.90</td>\n",
       "      <td>...</td>\n",
       "      <td>225.50</td>\n",
       "      <td>657.0</td>\n",
       "      <td>10.0</td>\n",
       "      <td>170919.30</td>\n",
       "      <td>78728.11</td>\n",
       "      <td>75422.0</td>\n",
       "      <td>121916.25</td>\n",
       "      <td>151782.0</td>\n",
       "      <td>207867.50</td>\n",
       "      <td>345265.0</td>\n",
       "    </tr>\n",
       "    <tr>\n",
       "      <th>4</th>\n",
       "      <td>10.0</td>\n",
       "      <td>98.80</td>\n",
       "      <td>67.32</td>\n",
       "      <td>27.0</td>\n",
       "      <td>64.50</td>\n",
       "      <td>79.5</td>\n",
       "      <td>93.25</td>\n",
       "      <td>239.0</td>\n",
       "      <td>10.0</td>\n",
       "      <td>390.40</td>\n",
       "      <td>...</td>\n",
       "      <td>431.00</td>\n",
       "      <td>1016.0</td>\n",
       "      <td>10.0</td>\n",
       "      <td>375621.40</td>\n",
       "      <td>267221.65</td>\n",
       "      <td>139172.0</td>\n",
       "      <td>213079.00</td>\n",
       "      <td>261589.5</td>\n",
       "      <td>483781.25</td>\n",
       "      <td>886084.0</td>\n",
       "    </tr>\n",
       "    <tr>\n",
       "      <th>6</th>\n",
       "      <td>1.0</td>\n",
       "      <td>36.00</td>\n",
       "      <td>NaN</td>\n",
       "      <td>36.0</td>\n",
       "      <td>36.00</td>\n",
       "      <td>36.0</td>\n",
       "      <td>36.00</td>\n",
       "      <td>36.0</td>\n",
       "      <td>1.0</td>\n",
       "      <td>1268.00</td>\n",
       "      <td>...</td>\n",
       "      <td>1268.00</td>\n",
       "      <td>1268.0</td>\n",
       "      <td>1.0</td>\n",
       "      <td>1188815.50</td>\n",
       "      <td>NaN</td>\n",
       "      <td>1188815.5</td>\n",
       "      <td>1188815.50</td>\n",
       "      <td>1188815.5</td>\n",
       "      <td>1188815.50</td>\n",
       "      <td>1188815.5</td>\n",
       "    </tr>\n",
       "  </tbody>\n",
       "</table>\n",
       "<p>6 rows × 24 columns</p>\n",
       "</div>"
      ],
      "text/plain": [
       "             Recency                                                      \\\n",
       "               count    mean    std    min     25%    50%     75%    max   \n",
       "OverallScore                                                               \n",
       "0               28.0  286.46  32.19  237.0  263.50  285.5  316.25  337.0   \n",
       "1               28.0  186.96  46.53  118.0  148.50  198.0  212.00  321.0   \n",
       "2               76.0   56.16  50.93    0.0   19.50   44.0   76.50  280.0   \n",
       "3               10.0  139.50  96.51   11.0   55.25  134.0  215.75  306.0   \n",
       "4               10.0   98.80  67.32   27.0   64.50   79.5   93.25  239.0   \n",
       "6                1.0   36.00    NaN   36.0   36.00   36.0   36.00   36.0   \n",
       "\n",
       "             Frequency           ...                  Revenue              \\\n",
       "                 count     mean  ...      75%     max   count        mean   \n",
       "OverallScore                     ...                                        \n",
       "0                 28.0    30.43  ...    42.25    98.0    28.0    24277.57   \n",
       "1                 28.0    43.57  ...    52.50   148.0    28.0    36218.64   \n",
       "2                 76.0    41.74  ...    54.00   191.0    76.0    37047.61   \n",
       "3                 10.0   235.90  ...   225.50   657.0    10.0   170919.30   \n",
       "4                 10.0   390.40  ...   431.00  1016.0    10.0   375621.40   \n",
       "6                  1.0  1268.00  ...  1268.00  1268.0     1.0  1188815.50   \n",
       "\n",
       "                                                                       \\\n",
       "                    std        min         25%        50%         75%   \n",
       "OverallScore                                                            \n",
       "0              18804.24     5058.0     9598.50    18115.5    34090.25   \n",
       "1              33803.54     8430.0    13622.00    25164.5    41669.75   \n",
       "2              52348.37     3380.0    12592.75    18763.5    41224.50   \n",
       "3              78728.11    75422.0   121916.25   151782.0   207867.50   \n",
       "4             267221.65   139172.0   213079.00   261589.5   483781.25   \n",
       "6                   NaN  1188815.5  1188815.50  1188815.5  1188815.50   \n",
       "\n",
       "                         \n",
       "                    max  \n",
       "OverallScore             \n",
       "0               65504.0  \n",
       "1              154858.0  \n",
       "2              403253.0  \n",
       "3              345265.0  \n",
       "4              886084.0  \n",
       "6             1188815.5  \n",
       "\n",
       "[6 rows x 24 columns]"
      ]
     },
     "execution_count": 19,
     "metadata": {},
     "output_type": "execute_result"
    }
   ],
   "source": [
    "purchase_df['OverallScore'] = purchase_df['RecencyCluster'] + purchase_df['FrequencyCluster'] + purchase_df['RevenueCluster']\n",
    "round(purchase_df.groupby('OverallScore')[['Recency','Frequency','Revenue']].describe(), 2)"
   ]
  },
  {
   "cell_type": "markdown",
   "id": "8628a3b5",
   "metadata": {},
   "source": [
    "So we have 6 clusters of customers. We can clearly see the difference between all the columns except the column 2, which has large range of values for all metrics because of its size (almost half of the values are in this cluster). Now we'll divide the customers into 3 groups based on the overall score."
   ]
  },
  {
   "cell_type": "code",
   "execution_count": 20,
   "id": "aac906d9",
   "metadata": {},
   "outputs": [],
   "source": [
    "purchase_df['Segment'] = 'Low value'\n",
    "purchase_df.loc[purchase_df['OverallScore']>1,'Segment'] = 'Mid value' \n",
    "purchase_df.loc[purchase_df['OverallScore']>2,'Segment'] = 'High value' "
   ]
  },
  {
   "cell_type": "markdown",
   "id": "c654798f",
   "metadata": {},
   "source": [
    "Let's plot 3 histograms showing the relationships between our metrics for every segment. "
   ]
  },
  {
   "cell_type": "code",
   "execution_count": 21,
   "id": "2694d188",
   "metadata": {},
   "outputs": [
    {
     "data": {
      "text/html": [
       "<div>\n",
       "<style scoped>\n",
       "    .dataframe tbody tr th:only-of-type {\n",
       "        vertical-align: middle;\n",
       "    }\n",
       "\n",
       "    .dataframe tbody tr th {\n",
       "        vertical-align: top;\n",
       "    }\n",
       "\n",
       "    .dataframe thead th {\n",
       "        text-align: right;\n",
       "    }\n",
       "</style>\n",
       "<table border=\"1\" class=\"dataframe\">\n",
       "  <thead>\n",
       "    <tr style=\"text-align: right;\">\n",
       "      <th></th>\n",
       "      <th>Customer_name</th>\n",
       "      <th>MaxPurchaseDate</th>\n",
       "      <th>Recency</th>\n",
       "      <th>RecencyCluster</th>\n",
       "      <th>Frequency</th>\n",
       "      <th>FrequencyCluster</th>\n",
       "      <th>Revenue</th>\n",
       "      <th>RevenueCluster</th>\n",
       "      <th>OverallScore</th>\n",
       "      <th>Segment</th>\n",
       "    </tr>\n",
       "  </thead>\n",
       "  <tbody>\n",
       "    <tr>\n",
       "      <th>0</th>\n",
       "      <td>Aanchol</td>\n",
       "      <td>2021-07-16</td>\n",
       "      <td>299</td>\n",
       "      <td>0</td>\n",
       "      <td>4</td>\n",
       "      <td>0</td>\n",
       "      <td>11452.0</td>\n",
       "      <td>0</td>\n",
       "      <td>0</td>\n",
       "      <td>Low value</td>\n",
       "    </tr>\n",
       "    <tr>\n",
       "      <th>1</th>\n",
       "      <td>Akash Kaushal</td>\n",
       "      <td>2021-09-07</td>\n",
       "      <td>246</td>\n",
       "      <td>0</td>\n",
       "      <td>10</td>\n",
       "      <td>0</td>\n",
       "      <td>5580.0</td>\n",
       "      <td>0</td>\n",
       "      <td>0</td>\n",
       "      <td>Low value</td>\n",
       "    </tr>\n",
       "    <tr>\n",
       "      <th>2</th>\n",
       "      <td>Arkh Fashion</td>\n",
       "      <td>2021-08-16</td>\n",
       "      <td>268</td>\n",
       "      <td>0</td>\n",
       "      <td>32</td>\n",
       "      <td>0</td>\n",
       "      <td>32690.0</td>\n",
       "      <td>0</td>\n",
       "      <td>0</td>\n",
       "      <td>Low value</td>\n",
       "    </tr>\n",
       "    <tr>\n",
       "      <th>3</th>\n",
       "      <td>Aruna Devi</td>\n",
       "      <td>2021-07-24</td>\n",
       "      <td>291</td>\n",
       "      <td>0</td>\n",
       "      <td>42</td>\n",
       "      <td>0</td>\n",
       "      <td>26952.0</td>\n",
       "      <td>0</td>\n",
       "      <td>0</td>\n",
       "      <td>Low value</td>\n",
       "    </tr>\n",
       "    <tr>\n",
       "      <th>4</th>\n",
       "      <td>Faria Essopp</td>\n",
       "      <td>2021-06-08</td>\n",
       "      <td>337</td>\n",
       "      <td>0</td>\n",
       "      <td>54</td>\n",
       "      <td>0</td>\n",
       "      <td>27989.0</td>\n",
       "      <td>0</td>\n",
       "      <td>0</td>\n",
       "      <td>Low value</td>\n",
       "    </tr>\n",
       "  </tbody>\n",
       "</table>\n",
       "</div>"
      ],
      "text/plain": [
       "   Customer_name MaxPurchaseDate  Recency  RecencyCluster  Frequency  \\\n",
       "0        Aanchol      2021-07-16      299               0          4   \n",
       "1  Akash Kaushal      2021-09-07      246               0         10   \n",
       "2   Arkh Fashion      2021-08-16      268               0         32   \n",
       "3     Aruna Devi      2021-07-24      291               0         42   \n",
       "4   Faria Essopp      2021-06-08      337               0         54   \n",
       "\n",
       "   FrequencyCluster  Revenue  RevenueCluster  OverallScore    Segment  \n",
       "0                 0  11452.0               0             0  Low value  \n",
       "1                 0   5580.0               0             0  Low value  \n",
       "2                 0  32690.0               0             0  Low value  \n",
       "3                 0  26952.0               0             0  Low value  \n",
       "4                 0  27989.0               0             0  Low value  "
      ]
     },
     "execution_count": 21,
     "metadata": {},
     "output_type": "execute_result"
    }
   ],
   "source": [
    "purchase_df.head()"
   ]
  },
  {
   "cell_type": "code",
   "execution_count": 22,
   "id": "755b483c",
   "metadata": {},
   "outputs": [
    {
     "data": {
      "image/png": "[encoded data removed]",
      "text/plain": [
       "<Figure size 720x1440 with 3 Axes>"
      ]
     },
     "metadata": {
      "needs_background": "light"
     },
     "output_type": "display_data"
    }
   ],
   "source": [
    "fig, ax = plt.subplots(3, 1, figsize=(10, 20))\n",
    "colors = {'Low value': 'red', 'Mid value': 'orange', 'High value': 'green'}\n",
    "\n",
    "# Recency vs Frequency\n",
    "for segment, color in colors.items():\n",
    "    subset = purchase_df[purchase_df['Segment'] == segment]\n",
    "    ax[0].scatter(subset['Recency'], subset['Frequency'], c=color, label=str(segment))\n",
    "ax[0].set_xlabel('Recency Value')\n",
    "ax[0].set_ylabel('Frequency Value')\n",
    "ax[0].legend()\n",
    "ax[0].set_title('Recency Value vs Frequency Value')\n",
    "\n",
    "# Recency vs Revenue\n",
    "for segment, color in colors.items():\n",
    "    subset = purchase_df[purchase_df['Segment'] == segment]\n",
    "    ax[1].scatter(subset['Recency'], subset['Revenue'], c=color, label=str(segment))\n",
    "ax[1].set_xlabel('Recency Value')\n",
    "ax[1].set_ylabel('Revenue')\n",
    "ax[1].legend()\n",
    "ax[1].set_title('Recency Value vs Revenue')\n",
    "\n",
    "# Frequency vs Revenue\n",
    "for segment, color in colors.items():\n",
    "    subset = purchase_df[purchase_df['Segment'] == segment]\n",
    "    ax[2].scatter(subset['Frequency'], subset['Revenue'], c=color, label=str(segment))\n",
    "ax[2].set_xlabel('Frequency Value')\n",
    "ax[2].set_ylabel('Revenue')\n",
    "ax[2].legend()\n",
    "ax[2].set_title('Frequency Value vs Revenue')\n",
    "\n",
    "plt.tight_layout()\n",
    "plt.show()"
   ]
  },
  {
   "cell_type": "markdown",
   "id": "7b06aba4",
   "metadata": {},
   "source": [
    "We can see how the segments are clearly differentiated from each other in terms of RFM. </br>\n",
    "- For the low value and mid value segments the revenue and frequency levels are quite similar to each other and need to be improved. The biggest difference between these segments is in recency: mid value customers have much lower recency rates.\n",
    "- Some of the high value customers have high recency value which should be improved. In terms of frequency and revenue the high value segment has clearly better results and it still can be improved.</br>\n",
    "\n",
    "### So, here are the main strategies for different segments:\n",
    "\n",
    "#### - High Value: Improve Retention \n",
    "#### - Mid Value: Increase Frequency \n",
    "#### - Low Value: Improve Retention + Increase Frequency"
   ]
  },
  {
   "cell_type": "code",
   "execution_count": 23,
   "id": "9199e5ef",
   "metadata": {},
   "outputs": [],
   "source": [
    "purchase_df.to_csv('Purchase_df.csv', index=False)"
   ]
  },
  {
   "cell_type": "markdown",
   "id": "c8572c24",
   "metadata": {},
   "source": [
    "## Customer lifetime value (LTV) prediction"
   ]
  },
  {
   "cell_type": "markdown",
   "id": "964097aa",
   "metadata": {},
   "source": [
    "In order to calculate the LTV first we need to select a time window. Considering the fact that we have data for 11 months we can predict the LTV for the last 5 months using the first 6 months of data. We can use RFM scores as features for our model. Let's start by spliting the data and calculating the RFM metrics for the first 6 months."
   ]
  },
  {
   "cell_type": "code",
   "execution_count": 24,
   "id": "5c2cf1b1",
   "metadata": {},
   "outputs": [
    {
     "name": "stdout",
     "output_type": "stream",
     "text": [
      "2022-05-11\n",
      "2021-06-05\n"
     ]
    }
   ],
   "source": [
    "print(int_df['Date'].max().date())\n",
    "print(int_df['Date'].min().date())"
   ]
  },
  {
   "cell_type": "code",
   "execution_count": 25,
   "id": "4ea70867",
   "metadata": {},
   "outputs": [],
   "source": [
    "first6m_df=int_df[(int_df['Date'].dt.date<dt.date(2021, 11, 30))].reset_index(drop=True)\n",
    "last5m_df=int_df[(int_df['Date'].dt.date>=dt.date(2021, 11, 30))].reset_index(drop=True)"
   ]
  },
  {
   "cell_type": "code",
   "execution_count": 26,
   "id": "bf14b27b",
   "metadata": {},
   "outputs": [],
   "source": [
    "#Recency\n",
    "first6m_purchase_df=first6m_df.groupby('Customer_name')['Date'].max().reset_index()\n",
    "first6m_purchase_df.columns=['Customer_name', 'MaxPurchaseDate']\n",
    "max_date=first6m_purchase_df['MaxPurchaseDate'].max()\n",
    "first6m_purchase_df['Recency']=(max_date - first6m_purchase_df['MaxPurchaseDate']).dt.days\n",
    "\n",
    "kmeans=KMeans(n_clusters=3)\n",
    "kmeans.fit(first6m_purchase_df[['Recency']])\n",
    "first6m_purchase_df['RecencyCluster']=kmeans.predict(first6m_purchase_df[['Recency']])\n",
    "first6m_purchase_df=order_cluster('RecencyCluster', 'Recency', first6m_purchase_df, False)\n",
    "\n",
    "#Frequency\n",
    "frequency_df=first6m_df.groupby('Customer_name')['Order_ID'].count().reset_index()\n",
    "frequency_df.columns = ['Customer_name','Frequency']\n",
    "first6m_purchase_df=pd.merge(first6m_purchase_df, frequency_df, on='Customer_name')\n",
    "\n",
    "kmeans=KMeans(n_clusters=3)\n",
    "kmeans.fit(first6m_purchase_df[['Frequency']])\n",
    "first6m_purchase_df['FrequencyCluster']=kmeans.predict(first6m_purchase_df[['Frequency']])\n",
    "first6m_purchase_df=order_cluster('FrequencyCluster', 'Frequency', first6m_purchase_df, True)\n",
    "\n",
    "#Revenue\n",
    "revenue_df = first6m_df.groupby('Customer_name')['Total'].sum().reset_index()\n",
    "revenue_df.columns = ['Customer_name','Revenue']\n",
    "first6m_purchase_df=pd.merge(first6m_purchase_df, revenue_df, on='Customer_name')\n",
    "\n",
    "kmeans=KMeans(n_clusters=3)\n",
    "kmeans.fit(first6m_purchase_df[['Revenue']])\n",
    "first6m_purchase_df['RevenueCluster']=kmeans.predict(first6m_purchase_df[['Revenue']])\n",
    "first6m_purchase_df=order_cluster('RevenueCluster', 'Revenue', first6m_purchase_df, True)\n",
    "\n",
    "#Overall score and segments\n",
    "first6m_purchase_df['OverallScore'] = first6m_purchase_df['RecencyCluster'] + first6m_purchase_df['FrequencyCluster'] + first6m_purchase_df['RevenueCluster']\n",
    "first6m_purchase_df['Segment'] = 'Low value'\n",
    "first6m_purchase_df.loc[first6m_purchase_df['OverallScore']>1,'Segment'] = 'Mid value' \n",
    "first6m_purchase_df.loc[first6m_purchase_df['OverallScore']>3,'Segment'] = 'High value' "
   ]
  },
  {
   "cell_type": "code",
   "execution_count": 27,
   "id": "5187e8c8",
   "metadata": {},
   "outputs": [
    {
     "data": {
      "image/png": "[encoded data removed]",
      "text/plain": [
       "<Figure size 864x576 with 1 Axes>"
      ]
     },
     "metadata": {
      "needs_background": "light"
     },
     "output_type": "display_data"
    }
   ],
   "source": [
    "#Calculating the LTV for the last 5 months\n",
    "last5m_purchase_df = last5m_df.groupby('Customer_name')['Total'].sum().reset_index()\n",
    "last5m_purchase_df.columns = ['Customer_name','l5_Revenue']\n",
    "\n",
    "last5m_purchase_df['l5_Revenue'].hist(figsize=(12, 8))\n",
    "plt.title('Revenue distribution')\n",
    "plt.xlabel('Revenue')\n",
    "plt.ylabel('Number of customers')\n",
    "plt.show()"
   ]
  },
  {
   "cell_type": "markdown",
   "id": "21e44b7f",
   "metadata": {},
   "source": [
    "We can notice the outliers in our model which should be filtered out to have a proper machine learning model. Now let's merge our datasets and build our first model."
   ]
  },
  {
   "cell_type": "markdown",
   "id": "9d75053e",
   "metadata": {},
   "source": [
    "# Modeling"
   ]
  },
  {
   "cell_type": "code",
   "execution_count": 28,
   "id": "0994c6e6",
   "metadata": {},
   "outputs": [
    {
     "data": {
      "text/plain": [
       "(0.003164014420963531, 11756.955061174276)"
      ]
     },
     "execution_count": 28,
     "metadata": {},
     "output_type": "execute_result"
    }
   ],
   "source": [
    "#merging the datasets\n",
    "merged_df = pd.merge(first6m_purchase_df, last5m_purchase_df, on='Customer_name', how='left')\n",
    "merged_df = merged_df.fillna(0)\n",
    "\n",
    "#filtering out the outliers\n",
    "merged_df = merged_df[merged_df['l5_Revenue']<merged_df['l5_Revenue'].quantile(0.9)]\n",
    "\n",
    "X = merged_df[['Recency', 'Frequency', 'Revenue']]\n",
    "y = merged_df['l5_Revenue']\n",
    "\n",
    "# Split the data into train and test sets\n",
    "X_train, X_test, y_train, y_test = train_test_split(X, y, test_size=0.2, random_state=42)\n",
    "xgb = XGBRegressor()\n",
    "\n",
    "xgb.fit(X_train, y_train)\n",
    "y_train_pred = xgb.predict(X_train)\n",
    "y_test_pred = xgb.predict(X_test)\n",
    "\n",
    "# Calculate the Root Mean Squared Error (RMSE)\n",
    "rmse_train = np.sqrt(mean_squared_error(y_train, y_train_pred))\n",
    "rmse_test = np.sqrt(mean_squared_error(y_test, y_test_pred))\n",
    "\n",
    "rmse_train, rmse_test"
   ]
  },
  {
   "cell_type": "markdown",
   "id": "7f9b4fa6",
   "metadata": {},
   "source": [
    "The root mean squared error (RMSE) on the training set is approximately 0.003, and on the test set, it's approximately 11771.1.\n",
    "\n",
    "The large difference in the RMSE for the training set and the test set suggests that the model might be overfitting to the training data. In order to deal with this we'll try to tune our hyperparameters. We'll use RandomizedSearchCV."
   ]
  },
  {
   "cell_type": "code",
   "execution_count": 33,
   "id": "36df6aad",
   "metadata": {},
   "outputs": [
    {
     "data": {
      "text/plain": [
       "({'learning_rate': 0.01,\n",
       "  'max_depth': 3,\n",
       "  'n_estimators': 100,\n",
       "  'reg_alpha': 1,\n",
       "  'reg_lambda': 2},\n",
       " 5842.419316484407,\n",
       " 8806.604902482515)"
      ]
     },
     "execution_count": 33,
     "metadata": {},
     "output_type": "execute_result"
    }
   ],
   "source": [
    "param_grid = {\n",
    "    'max_depth': [3, 5, 7],\n",
    "    'learning_rate': [0.01, 0.1, 0.2],\n",
    "    'n_estimators': [100, 500, 1000],\n",
    "    'reg_lambda': [1, 1.5, 2], \n",
    "    'reg_alpha': [0, 0.5, 1],\n",
    "}\n",
    "xgb = XGBRegressor()\n",
    "grid_cv = GridSearchCV(xgb, param_grid, cv=3, scoring='neg_root_mean_squared_error', n_jobs=-1)\n",
    "\n",
    "grid_cv.fit(X_train, y_train)\n",
    "best_params = grid_cv.best_params_\n",
    "\n",
    "xgb_best = XGBRegressor(**best_params)\n",
    "xgb_best.fit(X_train, y_train)\n",
    "\n",
    "y_train_pred_best = xgb_best.predict(X_train)\n",
    "y_test_pred_best = xgb_best.predict(X_test)\n",
    "\n",
    "rmse_train_best = np.sqrt(mean_squared_error(y_train, y_train_pred_best))\n",
    "rmse_test_best = np.sqrt(mean_squared_error(y_test, y_test_pred_best))\n",
    "\n",
    "best_params, rmse_train_best, rmse_test_best"
   ]
  },
  {
   "cell_type": "markdown",
   "id": "4f56eb8c",
   "metadata": {},
   "source": [
    "This is an improvement over our previous model, but the results are not practical considering the fact that rmse on test set is close to the mean value of our target column. This could be due to several reasons:\n",
    "\n",
    "- Limited Data: With more data, the model might be able to generalize better.\n",
    "- Outliers: If there are outliers in the target variable (i.e., some customers have extremely high future monetary values), this could be influencing the model's performance.\n",
    "\n",
    "Overall, while the model's performance is not perfect, it could still provide valuable insights for making business decisions. For example, it could help to identify customers who are predicted to have high future monetary values, so that marketing efforts can be focused on retaining these customers."
   ]
  }
 ],
 "metadata": {
  "kernelspec": {
   "display_name": "Python 3 (ipykernel)",
   "language": "python",
   "name": "python3"
  },
  "language_info": {
   "codemirror_mode": {
    "name": "ipython",
    "version": 3
   },
   "file_extension": ".py",
   "mimetype": "text/x-python",
   "name": "python",
   "nbconvert_exporter": "python",
   "pygments_lexer": "ipython3",
   "version": "3.9.12"
  }
 },
 "nbformat": 4,
 "nbformat_minor": 5
}
